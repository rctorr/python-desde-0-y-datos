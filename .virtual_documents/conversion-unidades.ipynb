cantidades_pesos = [50.0, 575.0, 3271.0, 47923.0, 150000.0, 500000.0,
                    750000.0, 1_000_000.0, 1_500_000.0, 2_000_000.0]


type(cantidades_pesos)


cantidades_pesos[0]


cantidades_pesos[1]


cantidades_pesos[0] * 0.0000019


f"{cantidades_pesos[0] * 0.0000019:.7f} BTC"


f"{cantidades_pesos[1] * 0.0000019:.7f} BTC"


f"{cantidades_pesos[2] * 0.0000019:.7f} BTC"


f"${cantidades_pesos[2]} M.N.| {cantidades_pesos[2] * 0.0000019:.7f} BTC"


for valor in cantidades_pesos:
    print(f"${valor} M.N.| {valor * 0.0000019:.7f} BTC")


for valor in cantidades_pesos:
    print(f"${valor:10} M.N.| {valor * 0.0000019:10.7f} BTC")
