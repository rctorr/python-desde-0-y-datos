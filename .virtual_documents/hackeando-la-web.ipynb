get_ipython().getoutput("pip install pandas")


import pandas as pd


tablas = pd.read_html("https://es.wikipedia.org/wiki/Poblaci%C3%B3n_mundial")


tablas


type(tablas)


tablas[0]


poblacion_mundial_por_edades_2023 = tablas[0]


type(poblacion_mundial_por_edades_2023)


poblacion_mundial_por_edades_2023.drop(columns="Fuente")


poblacion_mundial_por_edades_2023.head()


pmpe2023 = poblacion_mundial_por_edades_2023.drop(columns="Fuente")
pmpe2023.head()


pmpe2023.to_csv("pmpe2023.csv")
