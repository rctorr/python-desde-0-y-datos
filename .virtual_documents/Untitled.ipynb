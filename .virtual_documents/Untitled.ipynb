import pandas as pd


pmpe2023_datos = pd.read_csv("pmpe2023.csv")


pmpe2023_datos.head()


pmpe2023_datos.to_excel("pmpe2023.xlsx")



