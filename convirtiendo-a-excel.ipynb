{
 "cells": [
  {
   "cell_type": "markdown",
   "id": "23e9bbac-cbfa-40a5-a197-66f363cae0ee",
   "metadata": {},
   "source": [
    "## Generando archivos para Excel directamente desde Python"
   ]
  },
  {
   "cell_type": "markdown",
   "id": "6e7fad1c-62be-45a0-a6ed-4c3e8910de1d",
   "metadata": {},
   "source": [
    "Utiliza el archivo `pmpe2023.csv` creado en el ejemplo anterior y utiliza **Python** y el **módulo Pandas** para convertirlo en un archivo con formato para Excel"
   ]
  },
  {
   "cell_type": "code",
   "execution_count": 1,
   "id": "174c9c3e-9bd4-492c-9d70-c95ef173b608",
   "metadata": {
    "tags": []
   },
   "outputs": [],
   "source": [
    "import pandas as pd"
   ]
  },
  {
   "cell_type": "markdown",
   "id": "e4c03b9e-0c84-46eb-b1a1-cdf3b5cc0bb8",
   "metadata": {},
   "source": [
    "Leemos nuestro archivo de datos en formato extraño CSV:"
   ]
  },
  {
   "cell_type": "code",
   "execution_count": 2,
   "id": "c22380bb-588a-42ed-b855-856620eebaa0",
   "metadata": {
    "tags": []
   },
   "outputs": [],
   "source": [
    "pmpe2023_datos = pd.read_csv(\"pmpe2023.csv\")"
   ]
  },
  {
   "cell_type": "code",
   "execution_count": 3,
   "id": "d33e2610-323c-4043-96c6-b7125638dabe",
   "metadata": {
    "tags": []
   },
   "outputs": [
    {
     "data": {
      "text/html": [
       "<div>\n",
       "<style scoped>\n",
       "    .dataframe tbody tr th:only-of-type {\n",
       "        vertical-align: middle;\n",
       "    }\n",
       "\n",
       "    .dataframe tbody tr th {\n",
       "        vertical-align: top;\n",
       "    }\n",
       "\n",
       "    .dataframe thead th {\n",
       "        text-align: right;\n",
       "    }\n",
       "</style>\n",
       "<table border=\"1\" class=\"dataframe\">\n",
       "  <thead>\n",
       "    <tr style=\"text-align: right;\">\n",
       "      <th></th>\n",
       "      <th>Unnamed: 0</th>\n",
       "      <th>Edad</th>\n",
       "      <th>Hombres</th>\n",
       "      <th>Mujeres</th>\n",
       "    </tr>\n",
       "  </thead>\n",
       "  <tbody>\n",
       "    <tr>\n",
       "      <th>0</th>\n",
       "      <td>0</td>\n",
       "      <td>100+ años</td>\n",
       "      <td>159 920</td>\n",
       "      <td>574 932</td>\n",
       "    </tr>\n",
       "    <tr>\n",
       "      <th>1</th>\n",
       "      <td>1</td>\n",
       "      <td>95 - 99 años</td>\n",
       "      <td>1 659 265</td>\n",
       "      <td>4 133 829</td>\n",
       "    </tr>\n",
       "    <tr>\n",
       "      <th>2</th>\n",
       "      <td>2</td>\n",
       "      <td>90 - 94 años</td>\n",
       "      <td>6 540 753</td>\n",
       "      <td>12 857 020</td>\n",
       "    </tr>\n",
       "    <tr>\n",
       "      <th>3</th>\n",
       "      <td>3</td>\n",
       "      <td>85 - 89 años</td>\n",
       "      <td>18 255 270</td>\n",
       "      <td>29 634 339</td>\n",
       "    </tr>\n",
       "    <tr>\n",
       "      <th>4</th>\n",
       "      <td>4</td>\n",
       "      <td>80 - 84 años</td>\n",
       "      <td>35 507 345</td>\n",
       "      <td>49 637 312</td>\n",
       "    </tr>\n",
       "  </tbody>\n",
       "</table>\n",
       "</div>"
      ],
      "text/plain": [
       "   Unnamed: 0          Edad     Hombres     Mujeres\n",
       "0           0     100+ años     159 920     574 932\n",
       "1           1  95 - 99 años   1 659 265   4 133 829\n",
       "2           2  90 - 94 años   6 540 753  12 857 020\n",
       "3           3  85 - 89 años  18 255 270  29 634 339\n",
       "4           4  80 - 84 años  35 507 345  49 637 312"
      ]
     },
     "execution_count": 3,
     "metadata": {},
     "output_type": "execute_result"
    }
   ],
   "source": [
    "pmpe2023_datos.head()"
   ]
  },
  {
   "cell_type": "code",
   "execution_count": 4,
   "id": "ad2eea65-5b29-45c1-b7fa-a2b270d525e7",
   "metadata": {
    "tags": []
   },
   "outputs": [],
   "source": [
    "pmpe2023_datos.to_excel(\"pmpe2023.xlsx\")"
   ]
  },
  {
   "cell_type": "code",
   "execution_count": null,
   "id": "192829f2-a237-40a4-b240-62cf89419faf",
   "metadata": {},
   "outputs": [],
   "source": []
  }
 ],
 "metadata": {
  "kernelspec": {
   "display_name": "Python 3 (ipykernel)",
   "language": "python",
   "name": "python3"
  },
  "language_info": {
   "codemirror_mode": {
    "name": "ipython",
    "version": 3
   },
   "file_extension": ".py",
   "mimetype": "text/x-python",
   "name": "python",
   "nbconvert_exporter": "python",
   "pygments_lexer": "ipython3",
   "version": "3.9.13"
  }
 },
 "nbformat": 4,
 "nbformat_minor": 5
}
