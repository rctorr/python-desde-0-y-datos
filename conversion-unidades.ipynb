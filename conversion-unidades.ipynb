{
 "cells": [
  {
   "cell_type": "markdown",
   "id": "e8bab487-0e39-4a7f-8e5c-436cc69e37a5",
   "metadata": {},
   "source": [
    "### Conversión de unidades de moneda de pesos a bitcoins\n",
    "\n",
    "Tienes una lista de 10 cantidades en moneda nacional y necesitas imprimir la lista también en bitcoins. Crean un programa en Python que realice la conversión en imprima la lista en pesos y su equivalente en bitcoins\n",
    "\n",
    "50.0, 575.0, 3271.0, 47923.0, 150000.0, 500000.0, 750000.0, 1_000_000.0, 1_500_000.0, 2_000_000.0"
   ]
  },
  {
   "cell_type": "code",
   "execution_count": 1,
   "id": "c9a40b50-5694-4759-a732-fff1fc0de763",
   "metadata": {
    "tags": []
   },
   "outputs": [],
   "source": [
    "cantidades_pesos = [50.0, 575.0, 3271.0, 47923.0, 150000.0, 500000.0,\n",
    "                    750000.0, 1_000_000.0, 1_500_000.0, 2_000_000.0]"
   ]
  },
  {
   "cell_type": "markdown",
   "id": "a80636ee-2f57-4879-abe4-e61166987d48",
   "metadata": {},
   "source": [
    "Al crear variables es importante conocer de que tipo de dato son como por ejemplo `int`, `float`, `str`, `list`, `dict`, etc.\n",
    "\n",
    "Y cuando no sabemos se puede usar la función `type(-variable-)`"
   ]
  },
  {
   "cell_type": "code",
   "execution_count": 3,
   "id": "7da95ecc-4ad1-4712-a875-8ef5821b0d61",
   "metadata": {
    "tags": []
   },
   "outputs": [
    {
     "data": {
      "text/plain": [
       "list"
      ]
     },
     "execution_count": 3,
     "metadata": {},
     "output_type": "execute_result"
    }
   ],
   "source": [
    "type(cantidades_pesos)"
   ]
  },
  {
   "cell_type": "markdown",
   "id": "7938a0ad-ed3d-440e-8a74-22599b59537a",
   "metadata": {},
   "source": [
    "Si es de tipo `list` entonces podemos obtener sus elementos de uno a uno indicando la posición del elemento a obtener, por ejemplo el valor `50.0` está en la posición `0`, el valor `575.0` está en la posición `1`, el valor `3271.0` en la `2` y así sucesivamente\n",
    "\n",
    "Entonces para obtener el primer elemento se ejecuta el comando:"
   ]
  },
  {
   "cell_type": "code",
   "execution_count": 4,
   "id": "e95d92d7-e8e5-4a8f-9e98-1e52f98d0f34",
   "metadata": {
    "tags": []
   },
   "outputs": [
    {
     "data": {
      "text/plain": [
       "50.0"
      ]
     },
     "execution_count": 4,
     "metadata": {},
     "output_type": "execute_result"
    }
   ],
   "source": [
    "cantidades_pesos[0]"
   ]
  },
  {
   "cell_type": "code",
   "execution_count": 5,
   "id": "2bc16d3b-d4fe-41cf-a7d4-9cd1a723e476",
   "metadata": {
    "tags": []
   },
   "outputs": [
    {
     "data": {
      "text/plain": [
       "575.0"
      ]
     },
     "execution_count": 5,
     "metadata": {},
     "output_type": "execute_result"
    }
   ],
   "source": [
    "cantidades_pesos[1]"
   ]
  },
  {
   "cell_type": "markdown",
   "id": "1efdd844-1512-40e9-b02c-edfbf25c49a9",
   "metadata": {},
   "source": [
    "Ahora vamos a convertir estas cantidades en pesos a bitcoin, para ello podemos buscar en Internet a cuantos bitcoins equivale 1 peso y encontramos que:\n",
    "\n",
    "1 MNX = 0.0000019 BTC\n",
    "\n",
    "Entonces para convertir el primer valor `50.0` a bitcoins realizamos la siguiente operación:"
   ]
  },
  {
   "cell_type": "code",
   "execution_count": 6,
   "id": "10f2f334-1082-4763-9e81-c5458c38e0ad",
   "metadata": {
    "tags": []
   },
   "outputs": [
    {
     "data": {
      "text/plain": [
       "9.5e-05"
      ]
     },
     "execution_count": 6,
     "metadata": {},
     "output_type": "execute_result"
    }
   ],
   "source": [
    "cantidades_pesos[0] * 0.0000019"
   ]
  },
  {
   "cell_type": "markdown",
   "id": "6dea3af2-aa20-4aa9-9352-b1780478ab40",
   "metadata": {},
   "source": [
    "Si deseamos darle formato a la salida indicando por ejemplo que no queremos usar notación cienfítica entonces poder hacer uso de las **f-strings** en Python.\n",
    "\n",
    "Entonces para imprimir el valor ya convertido en bitcoins e indicando la moneda BTC será como:"
   ]
  },
  {
   "cell_type": "code",
   "execution_count": 9,
   "id": "964905b4-2889-472f-bbeb-deea384b0bf2",
   "metadata": {
    "tags": []
   },
   "outputs": [
    {
     "data": {
      "text/plain": [
       "'0.0000950 BTC'"
      ]
     },
     "execution_count": 9,
     "metadata": {},
     "output_type": "execute_result"
    }
   ],
   "source": [
    "f\"{cantidades_pesos[0] * 0.0000019:.7f} BTC\""
   ]
  },
  {
   "cell_type": "markdown",
   "id": "62ee8822-0683-4a4b-a5ab-07a2bebd9319",
   "metadata": {},
   "source": [
    "Y lo mismo lo podemos aplicar para el resto de los valores:"
   ]
  },
  {
   "cell_type": "code",
   "execution_count": 11,
   "id": "b3c7f660-5d47-47ea-ac5c-b059fdf58c1c",
   "metadata": {
    "tags": []
   },
   "outputs": [
    {
     "data": {
      "text/plain": [
       "'0.0010925 BTC'"
      ]
     },
     "execution_count": 11,
     "metadata": {},
     "output_type": "execute_result"
    }
   ],
   "source": [
    "f\"{cantidades_pesos[1] * 0.0000019:.7f} BTC\""
   ]
  },
  {
   "cell_type": "code",
   "execution_count": 12,
   "id": "47b155b2-8924-40eb-b77c-8034026f5c7f",
   "metadata": {
    "tags": []
   },
   "outputs": [
    {
     "data": {
      "text/plain": [
       "'0.0062149 BTC'"
      ]
     },
     "execution_count": 12,
     "metadata": {},
     "output_type": "execute_result"
    }
   ],
   "source": [
    "f\"{cantidades_pesos[2] * 0.0000019:.7f} BTC\""
   ]
  },
  {
   "cell_type": "markdown",
   "id": "4625d88c-62dc-48b6-997e-eb8ad4a42b88",
   "metadata": {},
   "source": [
    "Pero también queremos el valor en pesos para poder comparar:"
   ]
  },
  {
   "cell_type": "code",
   "execution_count": 14,
   "id": "db0432d8-d15e-4eb0-a9e3-4c8a6b3b808d",
   "metadata": {
    "tags": []
   },
   "outputs": [
    {
     "data": {
      "text/plain": [
       "'$3271.0 M.N.| 0.0062149 BTC'"
      ]
     },
     "execution_count": 14,
     "metadata": {},
     "output_type": "execute_result"
    }
   ],
   "source": [
    "f\"${cantidades_pesos[2]} M.N.| {cantidades_pesos[2] * 0.0000019:.7f} BTC\""
   ]
  },
  {
   "cell_type": "markdown",
   "id": "fb6ab351-7f06-4b3a-a7a4-f50dee4a1dea",
   "metadata": {},
   "source": [
    "Pero si misma operación se necesita repetir para cada valor en la lista entonces podemos usar las instrucciones repiten la ejecución de cierto código como el caso de `for`, por ejemplo:"
   ]
  },
  {
   "cell_type": "code",
   "execution_count": 17,
   "id": "12e6b4fe-c16b-4875-9b19-7fe256e9be1e",
   "metadata": {
    "tags": []
   },
   "outputs": [
    {
     "name": "stdout",
     "output_type": "stream",
     "text": [
      "$50.0 M.N.| 0.0000950 BTC\n",
      "$575.0 M.N.| 0.0010925 BTC\n",
      "$3271.0 M.N.| 0.0062149 BTC\n",
      "$47923.0 M.N.| 0.0910537 BTC\n",
      "$150000.0 M.N.| 0.2850000 BTC\n",
      "$500000.0 M.N.| 0.9500000 BTC\n",
      "$750000.0 M.N.| 1.4250000 BTC\n",
      "$1000000.0 M.N.| 1.9000000 BTC\n",
      "$1500000.0 M.N.| 2.8500000 BTC\n",
      "$2000000.0 M.N.| 3.8000000 BTC\n"
     ]
    }
   ],
   "source": [
    "for valor in cantidades_pesos:\n",
    "    print(f\"${valor} M.N.| {valor * 0.0000019:.7f} BTC\")"
   ]
  },
  {
   "cell_type": "markdown",
   "id": "dbe7e4ff-cbea-4680-8bc8-76422c207d7c",
   "metadata": {},
   "source": [
    "Y si queremos alinear las columnas:"
   ]
  },
  {
   "cell_type": "code",
   "execution_count": 18,
   "id": "ad3068cc-f491-46e7-b981-1d8c86063f42",
   "metadata": {
    "tags": []
   },
   "outputs": [
    {
     "name": "stdout",
     "output_type": "stream",
     "text": [
      "$      50.0 M.N.|  0.0000950 BTC\n",
      "$     575.0 M.N.|  0.0010925 BTC\n",
      "$    3271.0 M.N.|  0.0062149 BTC\n",
      "$   47923.0 M.N.|  0.0910537 BTC\n",
      "$  150000.0 M.N.|  0.2850000 BTC\n",
      "$  500000.0 M.N.|  0.9500000 BTC\n",
      "$  750000.0 M.N.|  1.4250000 BTC\n",
      "$ 1000000.0 M.N.|  1.9000000 BTC\n",
      "$ 1500000.0 M.N.|  2.8500000 BTC\n",
      "$ 2000000.0 M.N.|  3.8000000 BTC\n"
     ]
    }
   ],
   "source": [
    "for valor in cantidades_pesos:\n",
    "    print(f\"${valor:10} M.N.| {valor * 0.0000019:10.7f} BTC\")"
   ]
  },
  {
   "cell_type": "markdown",
   "id": "98ae3308-e428-4e65-b551-de5379e0a42e",
   "metadata": {
    "tags": []
   },
   "source": [
    "### Listo, misión cumplida!"
   ]
  }
 ],
 "metadata": {
  "kernelspec": {
   "display_name": "Python 3 (ipykernel)",
   "language": "python",
   "name": "python3"
  },
  "language_info": {
   "codemirror_mode": {
    "name": "ipython",
    "version": 3
   },
   "file_extension": ".py",
   "mimetype": "text/x-python",
   "name": "python",
   "nbconvert_exporter": "python",
   "pygments_lexer": "ipython3",
   "version": "3.9.13"
  }
 },
 "nbformat": 4,
 "nbformat_minor": 5
}
